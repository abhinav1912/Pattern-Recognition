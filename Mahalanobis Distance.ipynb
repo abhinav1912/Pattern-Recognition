{
 "cells": [
  {
   "cell_type": "code",
   "execution_count": null,
   "metadata": {},
   "outputs": [],
   "source": [
    "# Experiment 6: Mahalanobis Distance"
   ]
  },
  {
   "cell_type": "code",
   "execution_count": 1,
   "metadata": {},
   "outputs": [],
   "source": [
    "from math import cos, sin, pi\n",
    "import random\n",
    "from scipy.spatial.distance import cdist\n",
    "import numpy as np\n",
    "from pandas import DataFrame as df"
   ]
  },
  {
   "cell_type": "code",
   "execution_count": 2,
   "metadata": {},
   "outputs": [],
   "source": [
    "def generate_regular_hexagon(n=10):\n",
    "    coords = []\n",
    "    center = []\n",
    "    for i in range(n):\n",
    "        hexa = []\n",
    "        x = random.randint(-20,20)\n",
    "        y = random.randint(-20,20)\n",
    "        while [x,y] in center:\n",
    "            x = random.randint(-20,20)\n",
    "            y = random.randint(-20,20)\n",
    "        center.append([x,y])\n",
    "        radius = random.randint(1,10)\n",
    "        for j in range(6):\n",
    "            p_x = x + (radius * cos((2 * pi * j) / n))\n",
    "            p_y = y + (radius * sin((2 * pi * j) / n))\n",
    "            hexa.append([p_x, p_y])\n",
    "        coords.append(hexa)\n",
    "    return coords"
   ]
  },
  {
   "cell_type": "code",
   "execution_count": 3,
   "metadata": {},
   "outputs": [],
   "source": [
    "def generate_irregular_hexagon(n=10):\n",
    "    coords = []\n",
    "    center = []\n",
    "    for i in range(n):\n",
    "        hexa = []\n",
    "        x = random.randint(-20,20)\n",
    "        y = random.randint(-20,20)\n",
    "        while [x,y] in center:\n",
    "            x = random.randint(-20,20)\n",
    "            y = random.randint(-20,20)\n",
    "        center.append([x,y])\n",
    "        for j in range(6):\n",
    "            radius = random.randint(1,20)\n",
    "            p_x = x + (radius * cos((2 * pi * j) / n))\n",
    "            p_y = y + (radius * sin((2 * pi * j) / n))\n",
    "            hexa.append([p_x, p_y])\n",
    "        coords.append(hexa)\n",
    "    return coords"
   ]
  },
  {
   "cell_type": "code",
   "execution_count": 4,
   "metadata": {},
   "outputs": [],
   "source": [
    "def mahalanobis_distance(poly):\n",
    "    n = len(poly)\n",
    "    result = [[0 for j in range(n)] for i in range(n)]\n",
    "    for i in range(n):\n",
    "        for j in range(n):\n",
    "            dist = cdist(poly[i], poly[j], 'mahalanobis').diagonal().sum()/6\n",
    "            result[i][j] = dist\n",
    "    print_matrix(result)"
   ]
  },
  {
   "cell_type": "code",
   "execution_count": 10,
   "metadata": {},
   "outputs": [],
   "source": [
    "def bhattacharyya_distance(poly):\n",
    "    n = len(poly)\n",
    "    result = [[0 for j in range(n)] for i in range(n)]\n",
    "    for i in range(n):\n",
    "        for j in range(n):\n",
    "            dist = -np.log(np.sqrt(np.asarray(poly[i])*np.asarray(poly[j])).sum())\n",
    "            result[i][j] = dist\n",
    "    print_matrix(result)"
   ]
  },
  {
   "cell_type": "code",
   "execution_count": 5,
   "metadata": {},
   "outputs": [],
   "source": [
    "def print_matrix(matrix):\n",
    "    print(df(matrix))"
   ]
  },
  {
   "cell_type": "code",
   "execution_count": 6,
   "metadata": {},
   "outputs": [],
   "source": [
    "regular = generate_regular_hexagon(10)\n",
    "irregular = generate_irregular_hexagon(10)\n",
    "polygons = regular+irregular"
   ]
  },
  {
   "cell_type": "code",
   "execution_count": 7,
   "metadata": {},
   "outputs": [
    {
     "name": "stdout",
     "output_type": "stream",
     "text": [
      "Mahalanobis Distance:\n",
      "(Cell i,j = distance between ith and jth polygon)\n",
      "          0         1         2         3         4         5         6   \\\n",
      "0   0.000000  2.024777  1.803678  0.996472  1.776824  1.902384  1.866335   \n",
      "1   2.024777  0.000000  2.065319  2.001274  2.099916  1.928197  2.058089   \n",
      "2   1.803678  2.065319  0.000000  1.819213  1.210099  1.842473  1.633092   \n",
      "3   0.996472  2.001274  1.819213  0.000000  1.815621  1.897785  1.865362   \n",
      "4   1.776824  2.099916  1.210099  1.815621  0.000000  1.928236  1.742977   \n",
      "5   1.902384  1.928197  1.842473  1.897785  1.928236  0.000000  1.566178   \n",
      "6   1.866335  2.058089  1.633092  1.865362  1.742977  1.566178  0.000000   \n",
      "7   1.845183  2.110235  1.512186  1.861877  1.099858  1.943015  1.780656   \n",
      "8   2.061630  1.905765  1.753306  2.065109  1.950383  1.946701  1.815824   \n",
      "9   1.924127  1.939406  1.751628  1.945459  1.263820  1.907359  2.006036   \n",
      "10  1.955852  2.118129  1.904582  1.955228  1.888335  1.900190  1.806824   \n",
      "11  1.967760  1.946981  1.848867  1.952762  1.846575  1.468580  1.261165   \n",
      "12  1.986262  2.179661  1.301580  2.008226  1.265014  1.944835  1.534771   \n",
      "13  1.750694  2.087650  1.320658  1.847831  1.428652  1.849672  1.628467   \n",
      "14  1.655526  2.084861  1.517723  1.602970  1.360748  2.051657  1.901609   \n",
      "15  1.968921  2.156447  1.730254  1.976750  1.775382  1.926672  1.345866   \n",
      "16  1.186273  1.996591  1.925061  1.243957  1.813468  2.049404  1.929150   \n",
      "17  2.026602  2.214829  1.560613  2.049006  1.265304  2.052496  1.696157   \n",
      "18  1.148785  1.879796  1.749097  1.336103  1.716075  1.927469  1.796972   \n",
      "19  1.968398  1.999487  1.712520  1.966494  1.757170  1.530918  1.139267   \n",
      "\n",
      "          7         8         9         10        11        12        13  \\\n",
      "0   1.845183  2.061630  1.924127  1.955852  1.967760  1.986262  1.750694   \n",
      "1   2.110235  1.905765  1.939406  2.118129  1.946981  2.179661  2.087650   \n",
      "2   1.512186  1.753306  1.751628  1.904582  1.848867  1.301580  1.320658   \n",
      "3   1.861877  2.065109  1.945459  1.955228  1.952762  2.008226  1.847831   \n",
      "4   1.099858  1.950383  1.263820  1.888335  1.846575  1.265014  1.428652   \n",
      "5   1.943015  1.946701  1.907359  1.900190  1.468580  1.944835  1.849672   \n",
      "6   1.780656  1.815824  2.006036  1.806824  1.261165  1.534771  1.628467   \n",
      "7   0.000000  1.984068  1.678309  1.932341  1.897027  1.194565  1.793861   \n",
      "8   1.984068  0.000000  1.919918  2.094311  2.067428  1.685180  1.890060   \n",
      "9   1.678309  1.919918  0.000000  2.092339  2.132575  1.781521  1.712355   \n",
      "10  1.932341  2.094311  2.092339  0.000000  1.640904  1.858282  1.956130   \n",
      "11  1.897027  2.067428  2.132575  1.640904  0.000000  1.840275  1.760129   \n",
      "12  1.194565  1.685180  1.781521  1.858282  1.840275  0.000000  1.704279   \n",
      "13  1.793861  1.890060  1.712355  1.956130  1.760129  1.704279  0.000000   \n",
      "14  1.655714  2.084424  1.672767  1.864818  1.815932  1.621948  1.316017   \n",
      "15  1.796034  1.828300  2.025337  1.938014  1.543047  1.538616  1.704188   \n",
      "16  1.928917  2.193785  2.043557  1.841832  1.845005  1.815947  1.590916   \n",
      "17  0.762127  1.808258  1.795017  1.921865  1.882443  0.808851  1.773130   \n",
      "18  1.887731  2.047479  2.015812  1.983933  1.858860  1.871244  1.186476   \n",
      "19  1.805778  1.904627  2.058841  1.505710  0.757431  1.694030  1.647054   \n",
      "\n",
      "          14        15        16        17        18        19  \n",
      "0   1.655526  1.968921  1.186273  2.026602  1.148785  1.968398  \n",
      "1   2.084861  2.156447  1.996591  2.214829  1.879796  1.999487  \n",
      "2   1.517723  1.730254  1.925061  1.560613  1.749097  1.712520  \n",
      "3   1.602970  1.976750  1.243957  2.049006  1.336103  1.966494  \n",
      "4   1.360748  1.775382  1.813468  1.265304  1.716075  1.757170  \n",
      "5   2.051657  1.926672  2.049404  2.052496  1.927469  1.530918  \n",
      "6   1.901609  1.345866  1.929150  1.696157  1.796972  1.139267  \n",
      "7   1.655714  1.796034  1.928917  0.762127  1.887731  1.805778  \n",
      "8   2.084424  1.828300  2.193785  1.808258  2.047479  1.904627  \n",
      "9   1.672767  2.025337  2.043557  1.795017  2.015812  2.058841  \n",
      "10  1.864818  1.938014  1.841832  1.921865  1.983933  1.505710  \n",
      "11  1.815932  1.543047  1.845005  1.882443  1.858860  0.757431  \n",
      "12  1.621948  1.538616  1.815947  0.808851  1.871244  1.694030  \n",
      "13  1.316017  1.704188  1.590916  1.773130  1.186476  1.647054  \n",
      "14  0.000000  1.957063  1.745265  1.837534  1.469715  1.775766  \n",
      "15  1.957063  0.000000  1.885929  1.569478  1.774571  1.318352  \n",
      "16  1.745265  1.885929  0.000000  1.838109  1.212250  1.774484  \n",
      "17  1.837534  1.569478  1.838109  0.000000  1.864813  1.728030  \n",
      "18  1.469715  1.774571  1.212250  1.864813  0.000000  1.708189  \n",
      "19  1.775766  1.318352  1.774484  1.728030  1.708189  0.000000  \n"
     ]
    }
   ],
   "source": [
    "print(\"Mahalanobis Distance:\")\n",
    "print(\"(Cell i,j = distance between ith and jth polygon)\")\n",
    "mahalanobis_distance(polygons)"
   ]
  },
  {
   "cell_type": "code",
   "execution_count": 11,
   "metadata": {},
   "outputs": [
    {
     "name": "stdout",
     "output_type": "stream",
     "text": [
      "          0         1         2         3         4         5         6   \\\n",
      "0  -4.923870       NaN       NaN -4.957304       NaN       NaN       NaN   \n",
      "1        NaN -4.970892       NaN       NaN       NaN       NaN       NaN   \n",
      "2        NaN       NaN -4.119749       NaN       NaN       NaN       NaN   \n",
      "3  -4.957304       NaN       NaN -5.007523       NaN       NaN       NaN   \n",
      "4        NaN       NaN       NaN       NaN -4.457839       NaN       NaN   \n",
      "5        NaN       NaN       NaN       NaN       NaN -4.314589       NaN   \n",
      "6        NaN       NaN       NaN       NaN       NaN       NaN -4.631047   \n",
      "7        NaN       NaN       NaN       NaN -4.654959       NaN       NaN   \n",
      "8        NaN       NaN       NaN       NaN       NaN       NaN -4.506693   \n",
      "9        NaN       NaN       NaN       NaN -4.364270       NaN       NaN   \n",
      "10       NaN       NaN       NaN       NaN       NaN       NaN       NaN   \n",
      "11       NaN       NaN       NaN       NaN       NaN       NaN       NaN   \n",
      "12       NaN       NaN       NaN       NaN       NaN       NaN       NaN   \n",
      "13       NaN       NaN       NaN       NaN       NaN       NaN       NaN   \n",
      "14       NaN       NaN       NaN       NaN       NaN       NaN       NaN   \n",
      "15       NaN       NaN       NaN       NaN       NaN       NaN -4.884420   \n",
      "16       NaN       NaN       NaN       NaN       NaN       NaN       NaN   \n",
      "17       NaN       NaN       NaN       NaN       NaN       NaN       NaN   \n",
      "18       NaN       NaN       NaN       NaN       NaN       NaN       NaN   \n",
      "19       NaN       NaN       NaN       NaN       NaN       NaN       NaN   \n",
      "\n",
      "          7         8         9         10        11        12        13  \\\n",
      "0        NaN       NaN       NaN       NaN       NaN       NaN       NaN   \n",
      "1        NaN       NaN       NaN       NaN       NaN       NaN       NaN   \n",
      "2        NaN       NaN       NaN       NaN       NaN       NaN       NaN   \n",
      "3        NaN       NaN       NaN       NaN       NaN       NaN       NaN   \n",
      "4  -4.654959       NaN -4.364270       NaN       NaN       NaN       NaN   \n",
      "5        NaN       NaN       NaN       NaN       NaN       NaN       NaN   \n",
      "6        NaN -4.506693       NaN       NaN       NaN       NaN       NaN   \n",
      "7  -4.965488       NaN -4.641982       NaN       NaN       NaN       NaN   \n",
      "8        NaN -4.626495       NaN       NaN       NaN       NaN       NaN   \n",
      "9  -4.641982       NaN -4.391568       NaN       NaN       NaN       NaN   \n",
      "10       NaN       NaN       NaN -5.368811       NaN       NaN       NaN   \n",
      "11       NaN       NaN       NaN       NaN -4.858008       NaN       NaN   \n",
      "12       NaN       NaN       NaN       NaN       NaN -4.855814       NaN   \n",
      "13       NaN       NaN       NaN       NaN       NaN       NaN -4.220314   \n",
      "14       NaN       NaN       NaN       NaN       NaN       NaN       NaN   \n",
      "15       NaN -4.906022       NaN       NaN       NaN       NaN       NaN   \n",
      "16       NaN       NaN       NaN       NaN       NaN       NaN       NaN   \n",
      "17       NaN       NaN       NaN       NaN       NaN       NaN       NaN   \n",
      "18       NaN       NaN       NaN       NaN       NaN       NaN       NaN   \n",
      "19       NaN       NaN       NaN       NaN -4.910260       NaN       NaN   \n",
      "\n",
      "         14        15        16        17        18        19  \n",
      "0       NaN       NaN       NaN       NaN       NaN       NaN  \n",
      "1       NaN       NaN       NaN       NaN       NaN       NaN  \n",
      "2       NaN       NaN       NaN       NaN       NaN       NaN  \n",
      "3       NaN       NaN       NaN       NaN       NaN       NaN  \n",
      "4       NaN       NaN       NaN       NaN       NaN       NaN  \n",
      "5       NaN       NaN       NaN       NaN       NaN       NaN  \n",
      "6       NaN -4.884420       NaN       NaN       NaN       NaN  \n",
      "7       NaN       NaN       NaN       NaN       NaN       NaN  \n",
      "8       NaN -4.906022       NaN       NaN       NaN       NaN  \n",
      "9       NaN       NaN       NaN       NaN       NaN       NaN  \n",
      "10      NaN       NaN       NaN       NaN       NaN       NaN  \n",
      "11      NaN       NaN       NaN       NaN       NaN -4.910260  \n",
      "12      NaN       NaN       NaN       NaN       NaN       NaN  \n",
      "13      NaN       NaN       NaN       NaN       NaN       NaN  \n",
      "14 -4.40673       NaN       NaN       NaN       NaN       NaN  \n",
      "15      NaN -5.244463       NaN       NaN       NaN       NaN  \n",
      "16      NaN       NaN -5.104171       NaN       NaN       NaN  \n",
      "17      NaN       NaN       NaN -5.073956       NaN       NaN  \n",
      "18      NaN       NaN       NaN       NaN -4.710905       NaN  \n",
      "19      NaN       NaN       NaN       NaN       NaN -4.998073  \n"
     ]
    },
    {
     "name": "stderr",
     "output_type": "stream",
     "text": [
      "<ipython-input-10-d8ce19d0061f>:6: RuntimeWarning: invalid value encountered in sqrt\n",
      "  dist = -np.log(np.sqrt(np.asarray(poly[i])*np.asarray(poly[j])).sum())\n"
     ]
    }
   ],
   "source": [
    "bhattacharyya_distance(polygons)"
   ]
  },
  {
   "cell_type": "code",
   "execution_count": null,
   "metadata": {},
   "outputs": [],
   "source": []
  }
 ],
 "metadata": {
  "kernelspec": {
   "display_name": "Python 3",
   "language": "python",
   "name": "python3"
  },
  "language_info": {
   "codemirror_mode": {
    "name": "ipython",
    "version": 3
   },
   "file_extension": ".py",
   "mimetype": "text/x-python",
   "name": "python",
   "nbconvert_exporter": "python",
   "pygments_lexer": "ipython3",
   "version": "3.8.2"
  }
 },
 "nbformat": 4,
 "nbformat_minor": 4
}
