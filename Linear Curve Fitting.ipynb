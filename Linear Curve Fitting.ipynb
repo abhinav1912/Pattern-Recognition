{
 "cells": [
  {
   "cell_type": "code",
   "execution_count": null,
   "metadata": {},
   "outputs": [],
   "source": [
    "#Experiment 1: Curve Fitting Using Linear Regression"
   ]
  },
  {
   "cell_type": "code",
   "execution_count": null,
   "metadata": {},
   "outputs": [],
   "source": [
    "#To execute the code, execute all cells and then run the main() function call provided in the last cell"
   ]
  },
  {
   "cell_type": "code",
   "execution_count": 13,
   "metadata": {
    "scrolled": false
   },
   "outputs": [],
   "source": [
    "import os\n",
    "import random\n",
    "\n",
    "from pandas import read_csv\n",
    "from matplotlib import pyplot\n",
    "from numpy import arange\n",
    "from scipy.optimize import curve_fit"
   ]
  },
  {
   "cell_type": "code",
   "execution_count": 14,
   "metadata": {},
   "outputs": [],
   "source": [
    "# Function to evaluate the value of a linear polynomial\n",
    "def linear(x,a,b):\n",
    "    return a*x + b"
   ]
  },
  {
   "cell_type": "code",
   "execution_count": 15,
   "metadata": {},
   "outputs": [],
   "source": [
    "# Function to evaluate the value of a quadratic polynomial\n",
    "def quadratic(x,a,b,c):\n",
    "    return a*(x**2) + b*x + c"
   ]
  },
  {
   "cell_type": "code",
   "execution_count": 16,
   "metadata": {},
   "outputs": [],
   "source": [
    "# Function to evaluate the value of a cubic polynomial\n",
    "def cubic(x,a,b,c,d):\n",
    "    return a*(x**3) + b*(x**2) + c*x + d"
   ]
  },
  {
   "cell_type": "code",
   "execution_count": 17,
   "metadata": {},
   "outputs": [],
   "source": [
    "# Function to evaluate the value of a biquadratic polynomial\n",
    "def biquadratic(x,a,b,c,d,e):\n",
    "    return a*(x**4) + b*(x**3) + c*(x**2) + d*x + e"
   ]
  },
  {
   "cell_type": "code",
   "execution_count": 52,
   "metadata": {},
   "outputs": [],
   "source": [
    "# Function to generate a random polynomial, and randomly sample points\n",
    "def generate_points(n=4, coefficients=None, number_of_points = 20):\n",
    "    # generate random coefficients if coefficients aren't provided\n",
    "    if not coefficients:\n",
    "        coefficients = []\n",
    "        for i in range(n+1):\n",
    "            coefficients.append(random.randint(-2,10))\n",
    "    x_coord, y_coord = [], []\n",
    "    for i in range(min(number_of_points, 25)):\n",
    "        x = random.randint(0,10)\n",
    "        while x in x_coord:\n",
    "            x = random.randint(-10,10)\n",
    "        y = coefficients[0]\n",
    "        for i in range(1,n+1):\n",
    "            y += coefficients[i]*(x**i)\n",
    "        x_coord.append(x)\n",
    "        y_coord.append(y)\n",
    "    return coefficients, x_coord, y_coord"
   ]
  },
  {
   "cell_type": "code",
   "execution_count": 81,
   "metadata": {},
   "outputs": [],
   "source": [
    "def main(degree):\n",
    "    coefficients, x, y = generate_points(n=degree, coefficients=None)\n",
    "    polynomial = []\n",
    "    for i in range(degree+1):\n",
    "        polynomial.append(f\"{coefficients[i]}x^{i}\")\n",
    "    polynomial = polynomial[::-1]\n",
    "    print(\"The polynomial generated is: \"+\" + \".join(i for i in polynomial) + \"\\n\")\n",
    "    print(\"Attempting to fit curve and plot them.\\n\")\n",
    "    # Fitting linear curve\n",
    "    popt, _ = curve_fit(linear, x, y)\n",
    "    a,b = popt\n",
    "    print(f\"Nearest Linear Curve : y = {a}*x + {b}\")\n",
    "    pyplot.scatter(x,y)\n",
    "    x_line1 = arange(min(x), max(x), 1)\n",
    "    y_line1 = linear(x_line1, a, b)\n",
    "    pyplot.plot(x_line1, y_line1, '--', color='red', label=\"linear\")\n",
    "    \n",
    "    #Fitting Quadratic Curve\n",
    "    popt, _ = curve_fit(quadratic, x, y)\n",
    "    a,b,c = popt\n",
    "    print(f\"Nearest Quadratic Curve : y = {a}x^2 + {b}x + {c}\")\n",
    "    pyplot.scatter(x,y)\n",
    "    x_line2 = arange(min(x), max(x), 1)\n",
    "    y_line2 = quadratic(x_line2, a, b, c)\n",
    "    pyplot.plot(x_line2, y_line2, '--', color='blue', label=\"quadratic\")\n",
    "\n",
    "    #Fitting Cubic Curve\n",
    "    popt, _ = curve_fit(cubic, x, y)\n",
    "    a,b,c,d = popt\n",
    "    print(f\"Nearest Cubic Curve : y = {a}x^3 + {b}x^2 + {c}x + {d}\")\n",
    "    pyplot.scatter(x,y)\n",
    "    x_line3 = arange(min(x), max(x), 1)\n",
    "    y_line3 = cubic(x_line3, a, b, c, d)\n",
    "    pyplot.plot(x_line3, y_line3, '--', color='orange', label=\"cubic\")\n",
    "\n",
    "    #Fitting Biquadratic Curve\n",
    "    popt, _ = curve_fit(biquadratic, x, y)\n",
    "    a,b,c,d,e = popt\n",
    "    print(f\"Nearest Biquadratic Curve : y = {a}x^4 + {b}x^3 + {c}x^2 + {d}x + e\")\n",
    "    pyplot.scatter(x,y)\n",
    "    x_line4 = arange(min(x), max(x), 1)\n",
    "    y_line4 = biquadratic(x_line4, a, b, c, d, e)\n",
    "    pyplot.plot(x_line4, y_line4, '--', color='green', label=\"biquadratic\")\n",
    "    pyplot.legend(loc=\"upper right\")"
   ]
  },
  {
   "cell_type": "code",
   "execution_count": 82,
   "metadata": {},
   "outputs": [
    {
     "name": "stdout",
     "output_type": "stream",
     "text": [
      "The polynomial generated is: 8x^5 + 7x^4 + 10x^3 + 4x^2 + 7x^1 + -1x^0\n",
      "\n",
      "Attempting to fit curve and plot them.\n",
      "\n",
      "Nearest Linear Curve : y = 36422.74291338447*x + 36658.22869947559\n",
      "Nearest Quadratic Curve : y = 2328.714456924153x^2 + 34094.02843284308x + -40189.35248727946\n",
      "Nearest Cubic Curve : y = 917.3333365782275x^3 + 952.7143045810546x^2 + -19936.905000467577x + -12944.544978745753\n",
      "Nearest Biquadratic Curve : y = 26.99999968526763x^4 + 863.3333346598967x^3 + -1295.9999694001585x^2 + -17661.190540808744x + e\n"
     ]
    },
    {
     "data": {
      "image/png": "[encoded data removed]",
      "text/plain": [
       "<Figure size 432x288 with 1 Axes>"
      ]
     },
     "metadata": {
      "needs_background": "light"
     },
     "output_type": "display_data"
    }
   ],
   "source": [
    "# passing the equation degree as parameter to main() function\n",
    "main(5)"
   ]
  },
  {
   "cell_type": "code",
   "execution_count": null,
   "metadata": {},
   "outputs": [],
   "source": []
  }
 ],
 "metadata": {
  "kernelspec": {
   "display_name": "Python 3",
   "language": "python",
   "name": "python3"
  },
  "language_info": {
   "codemirror_mode": {
    "name": "ipython",
    "version": 3
   },
   "file_extension": ".py",
   "mimetype": "text/x-python",
   "name": "python",
   "nbconvert_exporter": "python",
   "pygments_lexer": "ipython3",
   "version": "3.8.2"
  }
 },
 "nbformat": 4,
 "nbformat_minor": 4
}
