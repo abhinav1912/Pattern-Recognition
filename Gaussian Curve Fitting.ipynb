{
 "cells": [
  {
   "cell_type": "code",
   "execution_count": 1,
   "metadata": {},
   "outputs": [],
   "source": [
    "#Experiment 2: Gaussian Curve Fitting"
   ]
  },
  {
   "cell_type": "code",
   "execution_count": 2,
   "metadata": {},
   "outputs": [],
   "source": [
    "#To execute the code, execute all cells and then run the main() function call provided in the last cell"
   ]
  },
  {
   "cell_type": "code",
   "execution_count": 3,
   "metadata": {
    "scrolled": false
   },
   "outputs": [],
   "source": [
    "import os\n",
    "import random\n",
    "import warnings\n",
    "from scipy.optimize import OptimizeWarning\n",
    "\n",
    "from pandas import read_csv\n",
    "from matplotlib import pyplot\n",
    "from numpy import arange\n",
    "from scipy.optimize import curve_fit\n",
    "from numpy import asarray as ar,exp, linspace, random\n",
    "import numpy as np"
   ]
  },
  {
   "cell_type": "code",
   "execution_count": 4,
   "metadata": {},
   "outputs": [],
   "source": [
    "def gaussian(x,a,x0,sigma):\n",
    "    # return gaussian estimate for given x\n",
    "    return a*exp(-(x-x0)**2/(2*sigma**2))"
   ]
  },
  {
   "cell_type": "code",
   "execution_count": 5,
   "metadata": {},
   "outputs": [],
   "source": [
    "# Function to generate points for Gaussian distribution\n",
    "def generate_points(number_of_points = 20):\n",
    "    x_mean = random.randint(10,20)\n",
    "    y_mean = random.randint(4,10)\n",
    "    coord = [[x_mean, y_mean]]\n",
    "    x_coord, y_coord = [], []\n",
    "    for i in range(1,number_of_points//2):\n",
    "        coord.append([x_mean-i, y_mean-i])\n",
    "        coord.append([x_mean+i, y_mean-i])\n",
    "    coord.sort()\n",
    "    x_coord = [i[0] for i in coord]\n",
    "    y_coord = [i[1] for i in coord]\n",
    "    return x_coord, y_coord"
   ]
  },
  {
   "cell_type": "code",
   "execution_count": 6,
   "metadata": {},
   "outputs": [],
   "source": [
    "def main(number_of_points):\n",
    "    # get points for gaussian fitting\n",
    "    x, y = generate_points(number_of_points)\n",
    "    x,y = ar(x), ar(y)\n",
    "    mean = sum(x * y) / sum(y)\n",
    "    \n",
    "    with warnings.catch_warnings():\n",
    "        warnings.filterwarnings('error')\n",
    "        try:\n",
    "            sigma = np.sqrt(sum(y * (x - mean)**2) / sum(y))\n",
    "        except Exception as e:\n",
    "            print('error found:', e)\n",
    "            return 0\n",
    "    \n",
    "    f = [max(y),mean,sigma]\n",
    "    popt,pcov = curve_fit(gaussian,x,y,p0=f, maxfev=800)\n",
    "    y_line=gaussian(x,*popt)\n",
    "\n",
    "    if all(int(i)==int(y_line[0]) for i in y_line):\n",
    "        print(\"Covariance couldn't be estimated.\")\n",
    "        return 0\n",
    "    \n",
    "    # plot graph\n",
    "    pyplot.scatter(x,y)\n",
    "    pyplot.plot(x,y,'o', color='blue', label='data')\n",
    "    n = len(x)\n",
    "    pyplot.plot(x, y_line,'--', color='red', label='gaussian')\n",
    "    \n",
    "    pyplot.legend(loc=\"upper right\")\n",
    "    return 1"
   ]
  },
  {
   "cell_type": "code",
   "execution_count": 7,
   "metadata": {},
   "outputs": [
    {
     "name": "stdout",
     "output_type": "stream",
     "text": [
      "Attempt 1:\n",
      "error found: invalid value encountered in sqrt\n",
      "Attempt 2:\n"
     ]
    },
    {
     "data": {
      "image/png": "[encoded data removed]",
      "text/plain": [
       "<Figure size 432x288 with 1 Axes>"
      ]
     },
     "metadata": {
      "needs_background": "light"
     },
     "output_type": "display_data"
    }
   ],
   "source": [
    "# passing the number of points as parameter to main() function\n",
    "i, done = 0,0\n",
    "while not done:\n",
    "    print(f\"Attempt {i+1}:\")\n",
    "    i+=1\n",
    "    done = main(22)"
   ]
  },
  {
   "cell_type": "code",
   "execution_count": null,
   "metadata": {},
   "outputs": [],
   "source": []
  }
 ],
 "metadata": {
  "kernelspec": {
   "display_name": "Python 3",
   "language": "python",
   "name": "python3"
  },
  "language_info": {
   "codemirror_mode": {
    "name": "ipython",
    "version": 3
   },
   "file_extension": ".py",
   "mimetype": "text/x-python",
   "name": "python",
   "nbconvert_exporter": "python",
   "pygments_lexer": "ipython3",
   "version": "3.8.2"
  }
 },
 "nbformat": 4,
 "nbformat_minor": 4
}
